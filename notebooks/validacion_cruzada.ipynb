{
 "cells": [
  {
   "cell_type": "code",
   "execution_count": 1,
   "metadata": {},
   "outputs": [],
   "source": [
    "from sklearn.model_selection import cross_val_score\n",
    "from sklearn.model_selection import KFold\n",
    "from sklearn.metrics import make_scorer\n"
   ]
  },
  {
   "cell_type": "code",
   "execution_count": 2,
   "metadata": {},
   "outputs": [
    {
     "ename": "NameError",
     "evalue": "name 'X1' is not defined",
     "output_type": "error",
     "traceback": [
      "\u001b[0;31m---------------------------------------------------------------------------\u001b[0m",
      "\u001b[0;31mNameError\u001b[0m                                 Traceback (most recent call last)",
      "\u001b[1;32m/home/natalia/DATA ANALYTICS/Proyectos_personales/cardiovascular/Cardiovascular_risk_prediction/notebooks/validacion_cruzada.ipynb Cell 2\u001b[0m line \u001b[0;36m1\n\u001b[1;32m     <a href='vscode-notebook-cell:/home/natalia/DATA%20ANALYTICS/Proyectos_personales/cardiovascular/Cardiovascular_risk_prediction/notebooks/validacion_cruzada.ipynb#W1sZmlsZQ%3D%3D?line=13'>14</a>\u001b[0m kf \u001b[39m=\u001b[39m KFold(n_splits\u001b[39m=\u001b[39mk, shuffle\u001b[39m=\u001b[39m\u001b[39mTrue\u001b[39;00m, random_state\u001b[39m=\u001b[39m\u001b[39m42\u001b[39m)\n\u001b[1;32m     <a href='vscode-notebook-cell:/home/natalia/DATA%20ANALYTICS/Proyectos_personales/cardiovascular/Cardiovascular_risk_prediction/notebooks/validacion_cruzada.ipynb#W1sZmlsZQ%3D%3D?line=15'>16</a>\u001b[0m \u001b[39m# Realiza la validación cruzada y calcula la métrica de rendimiento:\u001b[39;00m\n\u001b[0;32m---> <a href='vscode-notebook-cell:/home/natalia/DATA%20ANALYTICS/Proyectos_personales/cardiovascular/Cardiovascular_risk_prediction/notebooks/validacion_cruzada.ipynb#W1sZmlsZQ%3D%3D?line=18'>19</a>\u001b[0m scores \u001b[39m=\u001b[39m cross_val_score(model, X1, y1, cv\u001b[39m=\u001b[39mkf, scoring\u001b[39m=\u001b[39mscoring)\n\u001b[1;32m     <a href='vscode-notebook-cell:/home/natalia/DATA%20ANALYTICS/Proyectos_personales/cardiovascular/Cardiovascular_risk_prediction/notebooks/validacion_cruzada.ipynb#W1sZmlsZQ%3D%3D?line=20'>21</a>\u001b[0m \u001b[39m# Imprime o examina los resultados:\u001b[39;00m\n\u001b[1;32m     <a href='vscode-notebook-cell:/home/natalia/DATA%20ANALYTICS/Proyectos_personales/cardiovascular/Cardiovascular_risk_prediction/notebooks/validacion_cruzada.ipynb#W1sZmlsZQ%3D%3D?line=23'>24</a>\u001b[0m \u001b[39mprint\u001b[39m(\u001b[39m\"\u001b[39m\u001b[39mResultados de validación cruzada:\u001b[39m\u001b[39m\"\u001b[39m)\n",
      "\u001b[0;31mNameError\u001b[0m: name 'X1' is not defined"
     ]
    }
   ],
   "source": [
    "# Define tu modelo. Por ejemplo, si estás utilizando un modelo de regresión logística:\n",
    "\n",
    "\n",
    "from sklearn.linear_model import LogisticRegression\n",
    "model = LogisticRegression()\n",
    "\n",
    "# Configura los parámetros de validación cruzada, como el número de pliegues (k) y la métrica que deseas evaluar. Por ejemplo, si deseas utilizar 5 pliegues y medir la precisión:\n",
    "\n",
    "k = 5  # Número de pliegues\n",
    "scoring = 'accuracy'  # Métrica para evaluar (puedes cambiar esto a la métrica de tu elección)\n",
    "\n",
    "# Crea un objeto KFold para dividir tus datos en k pliegues:\n",
    "\n",
    "kf = KFold(n_splits=k, shuffle=True, random_state=42)\n",
    "\n",
    "# Realiza la validación cruzada y calcula la métrica de rendimiento:\n",
    "\n",
    "\n",
    "scores = cross_val_score(model, X1, y1, cv=kf, scoring=scoring)\n",
    "\n",
    "# Imprime o examina los resultados:\n",
    "\n",
    "\n",
    "print(\"Resultados de validación cruzada:\")\n",
    "for i, score in enumerate(scores):\n",
    "    print(f\"Pliegue {i+1}: {score:.4f}\")\n",
    "print(f\"Media de {k}-fold CV: {scores.mean():.4f}\")\n"
   ]
  }
 ],
 "metadata": {
  "kernelspec": {
   "display_name": "adalabenv",
   "language": "python",
   "name": "python3"
  },
  "language_info": {
   "codemirror_mode": {
    "name": "ipython",
    "version": 3
   },
   "file_extension": ".py",
   "mimetype": "text/x-python",
   "name": "python",
   "nbconvert_exporter": "python",
   "pygments_lexer": "ipython3",
   "version": "3.10.11"
  }
 },
 "nbformat": 4,
 "nbformat_minor": 2
}
